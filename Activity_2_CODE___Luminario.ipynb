{
  "nbformat": 4,
  "nbformat_minor": 0,
  "metadata": {
    "colab": {
      "provenance": [],
      "authorship_tag": "ABX9TyPFtJeVLNPSfxsVZkOGazod",
      "include_colab_link": true
    },
    "kernelspec": {
      "name": "python3",
      "display_name": "Python 3"
    },
    "language_info": {
      "name": "python"
    }
  },
  "cells": [
    {
      "cell_type": "markdown",
      "metadata": {
        "id": "view-in-github",
        "colab_type": "text"
      },
      "source": [
        "<a href=\"https://colab.research.google.com/github/Luminario22/CPE-201L---CPE2-B/blob/main/Activity_2_CODE___Luminario.ipynb\" target=\"_parent\"><img src=\"https://colab.research.google.com/assets/colab-badge.svg\" alt=\"Open In Colab\"/></a>"
      ]
    },
    {
      "cell_type": "code",
      "execution_count": 10,
      "metadata": {
        "colab": {
          "base_uri": "https://localhost:8080/"
        },
        "id": "UmnA9s5V-A3T",
        "outputId": "1f5c4f76-4a44-4d43-b5c1-716afcbdd997"
      },
      "outputs": [
        {
          "output_type": "stream",
          "name": "stdout",
          "text": [
            "Lowest: 20 | Highest: 9110\n"
          ]
        }
      ],
      "source": [
        "def find_range(dataset):\n",
        "    if not dataset:\n",
        "        return None, None\n",
        "    low = high = dataset[0]\n",
        "    for value in dataset[1:]:\n",
        "        low = value if value < low else low\n",
        "        high = value if value > high else high\n",
        "    return low, high\n",
        "\n",
        "values = [20, 60, 80, 71, 9110]\n",
        "smallest, largest = find_range(values)\n",
        "print(f\"Lowest: {smallest} | Highest: {largest}\")\n"
      ]
    }
  ]
}