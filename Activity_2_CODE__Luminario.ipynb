{
  "nbformat": 4,
  "nbformat_minor": 0,
  "metadata": {
    "colab": {
      "provenance": [],
      "authorship_tag": "ABX9TyPbrIkkrUgo1IC3mC4dngVg",
      "include_colab_link": true
    },
    "kernelspec": {
      "name": "python3",
      "display_name": "Python 3"
    },
    "language_info": {
      "name": "python"
    }
  },
  "cells": [
    {
      "cell_type": "markdown",
      "metadata": {
        "id": "view-in-github",
        "colab_type": "text"
      },
      "source": [
        "<a href=\"https://colab.research.google.com/github/Luminario22/CPE-201L---CPE2-B/blob/main/Activity_2_CODE__Luminario.ipynb\" target=\"_parent\"><img src=\"https://colab.research.google.com/assets/colab-badge.svg\" alt=\"Open In Colab\"/></a>"
      ]
    },
    {
      "cell_type": "code",
      "execution_count": null,
      "metadata": {
        "colab": {
          "base_uri": "https://localhost:8080/"
        },
        "id": "UmnA9s5V-A3T",
        "outputId": "b24b01f6-26b1-42fc-b3f1-38338c94a820"
      },
      "outputs": [
        {
          "output_type": "stream",
          "name": "stdout",
          "text": [
            "Min: 20\n",
            "Max: 90\n"
          ]
        }
      ],
      "source": [
        "def find_min_max(seq):\n",
        "    if len(seq) == 1:\n",
        "        return seq[0], seq[0]\n",
        "    else:\n",
        "        min_rest, max_rest = find_min_max(seq[1:])\n",
        "        return min(seq[0], min_rest), max(seq[0], max_rest)\n",
        "\n",
        "numbers = [29, 20, 88, 42, 90, 60]\n",
        "minimum, maximum = find_min_max(numbers)\n",
        "\n",
        "print(\"Min:\", minimum)\n",
        "print(\"Max:\", maximum)\n"
      ]
    }
  ]
}