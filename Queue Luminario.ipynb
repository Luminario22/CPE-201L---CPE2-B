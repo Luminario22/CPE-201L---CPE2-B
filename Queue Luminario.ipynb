{
  "nbformat": 4,
  "nbformat_minor": 0,
  "metadata": {
    "colab": {
      "provenance": [],
      "authorship_tag": "ABX9TyN11wefpXcnPGNKvmfg42zS",
      "include_colab_link": true
    },
    "kernelspec": {
      "name": "python3",
      "display_name": "Python 3"
    },
    "language_info": {
      "name": "python"
    }
  },
  "cells": [
    {
      "cell_type": "markdown",
      "metadata": {
        "id": "view-in-github",
        "colab_type": "text"
      },
      "source": [
        "<a href=\"https://colab.research.google.com/github/Luminario22/CPE-201L---CPE2-B/blob/main/Queue%20Luminario.ipynb\" target=\"_parent\"><img src=\"https://colab.research.google.com/assets/colab-badge.svg\" alt=\"Open In Colab\"/></a>"
      ]
    },
    {
      "cell_type": "code",
      "source": [
        "queue = []\n",
        "\n",
        "#enqueue items into queue\n",
        "queue.append('A')\n",
        "queue.append('B')\n",
        "queue.append('C')\n",
        "print(queue)\n",
        "\n",
        "#enqueue items into queue\n",
        "print(queue.pop(0))\n",
        "print(queue.pop(0))\n",
        "print(queue.pop(0))\n",
        "print(queue)\n",
        "\n",
        "\n",
        "def search(item):\n",
        "\n",
        "    return queue.index(item) if item in queue else -1\n",
        "\n",
        "#def Head_queue:\n",
        "def Head_queue():\n",
        "    return queue[0] if queue else None\n",
        "\n",
        "queue.append('G')\n",
        "queue.append('D')\n",
        "queue.append('E')\n",
        "queue.append('F')\n",
        "\n",
        "print(search('G'))\n",
        "print(search('D'))\n",
        "print(search('E'))\n",
        "print(search('F'))\n",
        "print(search('A'))\n",
        "print(search('B'))\n",
        "print(search('C'))\n",
        "\n",
        "print(\"Head of queue:\", Head_queue())"
      ],
      "metadata": {
        "colab": {
          "base_uri": "https://localhost:8080/"
        },
        "id": "kEJH_7T_Q-hG",
        "outputId": "f70687e0-75e1-45ad-a46c-b61ea367d309"
      },
      "execution_count": 33,
      "outputs": [
        {
          "output_type": "stream",
          "name": "stdout",
          "text": [
            "['A', 'B', 'C']\n",
            "A\n",
            "B\n",
            "C\n",
            "[]\n",
            "0\n",
            "1\n",
            "2\n",
            "3\n",
            "-1\n",
            "-1\n",
            "-1\n",
            "Head of queue: G\n"
          ]
        }
      ]
    }
  ]
}