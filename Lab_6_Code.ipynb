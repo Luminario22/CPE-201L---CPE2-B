{
  "nbformat": 4,
  "nbformat_minor": 0,
  "metadata": {
    "colab": {
      "provenance": [],
      "authorship_tag": "ABX9TyMXRkxnh/HfZMb6YIS8O7JB",
      "include_colab_link": true
    },
    "kernelspec": {
      "name": "python3",
      "display_name": "Python 3"
    },
    "language_info": {
      "name": "python"
    }
  },
  "cells": [
    {
      "cell_type": "markdown",
      "metadata": {
        "id": "view-in-github",
        "colab_type": "text"
      },
      "source": [
        "<a href=\"https://colab.research.google.com/github/Luminario22/CPE-201L---CPE2-B/blob/main/Lab_6_Code.ipynb\" target=\"_parent\"><img src=\"https://colab.research.google.com/assets/colab-badge.svg\" alt=\"Open In Colab\"/></a>"
      ]
    },
    {
      "cell_type": "code",
      "execution_count": 10,
      "metadata": {
        "colab": {
          "base_uri": "https://localhost:8080/"
        },
        "id": "YBtfALvw4zMJ",
        "outputId": "1cbc5433-4c2d-4b8d-8997-4f82c08540d9"
      },
      "outputs": [
        {
          "output_type": "stream",
          "name": "stdout",
          "text": [
            "Prime numbers in the list:\n",
            "2 -> 3 -> 5 -> 7 -> 11 -> 13 -> 17 -> 19 -> None\n",
            "Head of the list: 2\n",
            "Tail of the list: 19\n"
          ]
        }
      ],
      "source": [
        "class Node:\n",
        "    def __init__(self, data):\n",
        "        self.data = data\n",
        "        self.next = None\n",
        "\n",
        "def is_prime(n):\n",
        "    if n < 2: return False\n",
        "    for i in range(2, int(n**0.5)+1):\n",
        "        if n % i == 0: return False\n",
        "    return True\n",
        "\n",
        "head = None\n",
        "tail = None\n",
        "\n",
        "for i in range(2, 20):\n",
        "    if is_prime(i):\n",
        "        new_node = Node(i)\n",
        "        if head is None:\n",
        "            head = new_node\n",
        "            tail = new_node\n",
        "        else:\n",
        "            tail.next = new_node\n",
        "            tail = new_node\n",
        "\n",
        "print(\"Prime numbers in the list:\")\n",
        "current = head\n",
        "while current:\n",
        "    print(current.data, end=\" -> \")\n",
        "    current = current.next\n",
        "print(\"None\")\n",
        "\n",
        "print(\"Head of the list:\", head.data if head else None)\n",
        "print(\"Tail of the list:\", tail.data if tail else None)\n"
      ]
    }
  ]
}