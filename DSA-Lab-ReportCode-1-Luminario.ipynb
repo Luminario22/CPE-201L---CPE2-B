{
  "nbformat": 4,
  "nbformat_minor": 0,
  "metadata": {
    "colab": {
      "provenance": [],
      "authorship_tag": "ABX9TyO1BF2BFAXreA+tFpN4IG84",
      "include_colab_link": true
    },
    "kernelspec": {
      "name": "python3",
      "display_name": "Python 3"
    },
    "language_info": {
      "name": "python"
    }
  },
  "cells": [
    {
      "cell_type": "markdown",
      "metadata": {
        "id": "view-in-github",
        "colab_type": "text"
      },
      "source": [
        "<a href=\"https://colab.research.google.com/github/Luminario22/CPE-201L---CPE2-B/blob/main/Luminario_Code_Lab_Report_1.ipynb\" target=\"_parent\"><img src=\"https://colab.research.google.com/assets/colab-badge.svg\" alt=\"Open In Colab\"/></a>"
      ]
    },
    {
      "cell_type": "code",
      "source": [
        "class Polygons:\n",
        "    def __init__(self, name: str, sides: int, area: float):\n",
        "        self._name = name\n",
        "        self._sides = sides\n",
        "        self._area = area\n",
        "\n",
        "    def set_name(self, name: str):\n",
        "        self._name = name\n",
        "\n",
        "    def get_name(self) -> str:\n",
        "        return self._name\n",
        "\n",
        "    def set_sides(self, sides: int):\n",
        "        self._sides = sides\n",
        "\n",
        "    def get_sides(self) -> int:\n",
        "        return self._sides\n",
        "\n",
        "    def set_area(self, area: float):\n",
        "        self._area = area\n",
        "\n",
        "    def get_area(self) -> float:\n",
        "        return self._area\n",
        "\n",
        "\n",
        "\n",
        "polygon = Polygons(name=\"Quadrilateral\", sides=4, area=20.0)\n",
        "\n",
        "\n",
        "print(\"Polygon Name:\", polygon.get_name())\n",
        "print(\"Number of Sides:\", polygon.get_sides())\n",
        "print(\"Area:\", polygon.get_area())\n"
      ],
      "metadata": {
        "colab": {
          "base_uri": "https://localhost:8080/"
        },
        "id": "EGhu4t43l1TZ",
        "outputId": "fd141a4b-8bfa-4900-80af-507fde8be933"
      },
      "execution_count": null,
      "outputs": [
        {
          "output_type": "stream",
          "name": "stdout",
          "text": [
            "Polygon Name: Quadrilateral\n",
            "Number of Sides: 4\n",
            "Area: 20.0\n"
          ]
        }
      ]
    }
  ]
}
