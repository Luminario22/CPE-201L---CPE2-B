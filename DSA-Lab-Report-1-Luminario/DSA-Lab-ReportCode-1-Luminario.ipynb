{
  "nbformat": 4,
  "nbformat_minor": 0,
  "metadata": {
    "colab": {
      "provenance": [],
      "authorship_tag": "ABX9TyMsfgeSKWDsRqaqyoIcIXoR",
      "include_colab_link": true
    },
    "kernelspec": {
      "name": "python3",
      "display_name": "Python 3"
    },
    "language_info": {
      "name": "python"
    }
  },
  "cells": [
    {
      "cell_type": "markdown",
      "metadata": {
        "id": "view-in-github",
        "colab_type": "text"
      },
      "source": [
        "<a href=\"https://colab.research.google.com/github/Luminario22/CPE-201L---CPE2-B/blob/main/activity_1.ipynb\" target=\"_parent\"><img src=\"https://colab.research.google.com/assets/colab-badge.svg\" alt=\"Open In Colab\"/></a>"
      ]
    },
    {
      "cell_type": "code",
      "execution_count": 1,
      "metadata": {
        "colab": {
          "base_uri": "https://localhost:8080/"
        },
        "id": "CpH8VLZmYK0H",
        "outputId": "c77e87c7-6004-4e1c-abfd-eacd49653b85"
      },
      "outputs": [
        {
          "output_type": "stream",
          "name": "stdout",
          "text": [
            "Radius: 5\n",
            "Area of circle is 78.53981633974483\n"
          ]
        }
      ],
      "source": [
        "import cmath\n",
        "\n",
        "radius = input(\"Radius: \")\n",
        "area = cmath.pi * float(radius) ** 2\n",
        "\n",
        "print(\"Area of circle is\", area)"
      ]
    },
    {
      "cell_type": "code",
      "source": [
        "import cmath\n",
        "\n",
        "diameter = input(\"Diameter: \")\n",
        "area = cmath.pi/4 * float(diameter) ** 2\n",
        "\n",
        "print(\"Area of circle is\", area)\n",
        ""
      ],
      "metadata": {
        "id": "0bviXRarbU-C",
        "outputId": "ce036aec-38cd-4a84-a638-1c23bd1f58f4",
        "colab": {
          "base_uri": "https://localhost:8080/"
        }
      },
      "execution_count": 2,
      "outputs": [
        {
          "output_type": "stream",
          "name": "stdout",
          "text": [
            "Diameter: 10\n",
            "Area of circle is 78.53981633974483\n"
          ]
        }
      ]
    }
  ]
}
