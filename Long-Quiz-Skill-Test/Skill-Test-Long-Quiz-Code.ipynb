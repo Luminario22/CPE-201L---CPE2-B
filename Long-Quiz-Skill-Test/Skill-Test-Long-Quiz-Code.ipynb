{
  "nbformat": 4,
  "nbformat_minor": 0,
  "metadata": {
    "colab": {
      "provenance": [],
      "authorship_tag": "ABX9TyNBXl5JLlYtcanHqDezJ55M",
      "include_colab_link": true
    },
    "kernelspec": {
      "name": "python3",
      "display_name": "Python 3"
    },
    "language_info": {
      "name": "python"
    }
  },
  "cells": [
    {
      "cell_type": "markdown",
      "metadata": {
        "id": "view-in-github",
        "colab_type": "text"
      },
      "source": [
        "<a href=\"https://colab.research.google.com/github/Luminario22/CPE-201L---CPE2-B/blob/main/Long%20Quiz%20Code.ipynb\" target=\"_parent\"><img src=\"https://colab.research.google.com/assets/colab-badge.svg\" alt=\"Open In Colab\"/></a>"
      ]
    },
    {
      "cell_type": "code",
      "source": [
        "class NameFormatter:\n",
        "    def __init__(self):\n",
        "        self.name_array = []\n",
        "\n",
        "    def format_venice(self):\n",
        "        self.name_array = []\n",
        "        self.name_array.append('_')\n",
        "        for char in \"Venice\":\n",
        "            self.name_array.append(char)\n",
        "        return ''.join(self.name_array)\n",
        "\n",
        "    def format_lou_gabrielle(self):\n",
        "        self.name_array = []\n",
        "        for char in \"Lou\":\n",
        "            self.name_array.append(char)\n",
        "        self.name_array.append('_')\n",
        "        for char in \"Gabrielle\":\n",
        "            self.name_array.append(char)\n",
        "        return ''.join(self.name_array)\n",
        "\n",
        "    def format_luminario(self):\n",
        "        self.name_array = []\n",
        "        for char in \"Luminario\":\n",
        "            self.name_array.append(char)\n",
        "        self.name_array.append('_')\n",
        "        return ''.join(self.name_array)\n",
        "\n",
        "    def traverse_characters(self):\n",
        "        print(\"Traversing characters:\")\n",
        "        for i, char in enumerate(self.name_array):\n",
        "            print(f\"Character {i + 1}: '{char}'\")\n",
        "        print(f\"Total characters: {len(self.name_array)}\")\n",
        "\n",
        "\n",
        "\n",
        "def main():\n",
        "    formatter = NameFormatter()\n",
        "\n",
        "    # Format 1: _Venice\n",
        "    result1 = formatter.format_venice()\n",
        "    print(result1)\n",
        "    formatter.traverse_characters()\n",
        "    print()\n",
        "\n",
        "    # Format 2: Lou_Gabrielle\n",
        "    result2 = formatter.format_lou_gabrielle()\n",
        "    print(result2)\n",
        "    formatter.traverse_characters()\n",
        "    print()\n",
        "\n",
        "    # Format 3: Luminario_\n",
        "    result3 = formatter.format_luminario()\n",
        "    print(result3)\n",
        "    formatter.traverse_characters()\n",
        "\n",
        "    # Full name with underscores\n",
        "    print(\"\\n\")\n",
        "    print(\"My Full Name:\")\n",
        "    print(result1, result2, result3)\n",
        "\n",
        "    #Full name with underscore but in reverse\n",
        "    print(\"\\n\")\n",
        "    print(\"My Full Name in Reverse:\")\n",
        "    print(result1[::-1], result2[::-1], result3[::-1])\n",
        "\n",
        "if __name__ == \"__main__\":\n",
        "    main()"
      ],
      "metadata": {
        "id": "qKoZigwT1Ugu",
        "colab": {
          "base_uri": "https://localhost:8080/"
        },
        "outputId": "449b410d-8f2d-4a0d-9ea1-a05242ea5aab"
      },
      "execution_count": 35,
      "outputs": [
        {
          "output_type": "stream",
          "name": "stdout",
          "text": [
            "_Venice\n",
            "Traversing characters:\n",
            "Character 1: '_'\n",
            "Character 2: 'V'\n",
            "Character 3: 'e'\n",
            "Character 4: 'n'\n",
            "Character 5: 'i'\n",
            "Character 6: 'c'\n",
            "Character 7: 'e'\n",
            "Total characters: 7\n",
            "\n",
            "Lou_Gabrielle\n",
            "Traversing characters:\n",
            "Character 1: 'L'\n",
            "Character 2: 'o'\n",
            "Character 3: 'u'\n",
            "Character 4: '_'\n",
            "Character 5: 'G'\n",
            "Character 6: 'a'\n",
            "Character 7: 'b'\n",
            "Character 8: 'r'\n",
            "Character 9: 'i'\n",
            "Character 10: 'e'\n",
            "Character 11: 'l'\n",
            "Character 12: 'l'\n",
            "Character 13: 'e'\n",
            "Total characters: 13\n",
            "\n",
            "Luminario_\n",
            "Traversing characters:\n",
            "Character 1: 'L'\n",
            "Character 2: 'u'\n",
            "Character 3: 'm'\n",
            "Character 4: 'i'\n",
            "Character 5: 'n'\n",
            "Character 6: 'a'\n",
            "Character 7: 'r'\n",
            "Character 8: 'i'\n",
            "Character 9: 'o'\n",
            "Character 10: '_'\n",
            "Total characters: 10\n",
            "\n",
            "\n",
            "My Full Name:\n",
            "_Venice Lou_Gabrielle Luminario_\n",
            "\n",
            "\n",
            "My Full Name in Reverse:\n",
            "ecineV_ elleirbaG_uoL _oiranimuL\n"
          ]
        }
      ]
    }
  ]
}
