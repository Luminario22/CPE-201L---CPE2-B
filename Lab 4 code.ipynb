{
  "nbformat": 4,
  "nbformat_minor": 0,
  "metadata": {
    "colab": {
      "provenance": [],
      "authorship_tag": "ABX9TyPm2i3Pm0N1vjD0g11dSUn1",
      "include_colab_link": true
    },
    "kernelspec": {
      "name": "python3",
      "display_name": "Python 3"
    },
    "language_info": {
      "name": "python"
    }
  },
  "cells": [
    {
      "cell_type": "markdown",
      "metadata": {
        "id": "view-in-github",
        "colab_type": "text"
      },
      "source": [
        "<a href=\"https://colab.research.google.com/github/Luminario22/CPE-201L---CPE2-B/blob/main/Lab%204%20code.ipynb\" target=\"_parent\"><img src=\"https://colab.research.google.com/assets/colab-badge.svg\" alt=\"Open In Colab\"/></a>"
      ]
    },
    {
      "cell_type": "code",
      "execution_count": 1,
      "metadata": {
        "colab": {
          "base_uri": "https://localhost:8080/"
        },
        "id": "phH2soL9JGyL",
        "outputId": "4a321be1-85c8-4e54-cba2-71c7ad341312"
      },
      "outputs": [
        {
          "output_type": "stream",
          "name": "stdout",
          "text": [
            "Jenna's Grocery List:\n",
            "Apple: PHP 10 x 7 = PHP 70\n",
            "Banana: PHP 10 x 8 = PHP 80\n",
            "Broccoli: PHP 60 x 12 = PHP 720\n",
            "Lettuce: PHP 50 x 10 = PHP 500\n",
            "\n",
            "Total cost: PHP 1370\n",
            "\n",
            "Grocery List after removing Lettuce:\n",
            "Apple: PHP 10 x 7 = PHP 70\n",
            "Banana: PHP 10 x 8 = PHP 80\n",
            "Broccoli: PHP 60 x 12 = PHP 720\n",
            "\n",
            "Total cost after removing Lettuce: PHP 870\n"
          ]
        }
      ],
      "source": [
        "class GroceryItem:\n",
        "    def __init__(self, name, price, quantity):\n",
        "        self.name = name\n",
        "        self.price = price\n",
        "        self.quantity = quantity\n",
        "\n",
        "    def calculate_total(self):\n",
        "        return self.price * self.quantity\n",
        "\n",
        "    def display_item(self):\n",
        "        print(f\"{self.name}: PHP {self.price} x {self.quantity} = PHP {self.calculate_total()}\")\n",
        "\n",
        "class Fruit(GroceryItem):\n",
        "    pass\n",
        "\n",
        "class Vegetable(GroceryItem):\n",
        "    pass\n",
        "\n",
        "def TotalSum(grocery_list):\n",
        "    return sum(item.calculate_total() for item in grocery_list)\n",
        "\n",
        "\n",
        "if __name__ == \"__main__\":\n",
        "\n",
        "    apple = Fruit(\"Apple\", 10, 7)\n",
        "    banana = Fruit(\"Banana\", 10, 8)\n",
        "    broccoli = Vegetable(\"Broccoli\", 60, 12)\n",
        "    lettuce = Vegetable(\"Lettuce\", 50, 10)\n",
        "\n",
        "    GroceryList = [apple, banana, broccoli, lettuce]\n",
        "\n",
        "    print(\"Jenna's Grocery List:\")\n",
        "    for item in GroceryList:\n",
        "        item.display_item()\n",
        "\n",
        "    total_cost = TotalSum(GroceryList)\n",
        "    print(f\"\\nTotal cost: PHP {total_cost}\")\n",
        "\n",
        "    GroceryList = [item for item in GroceryList if item.name != \"Lettuce\"]\n",
        "\n",
        "    print(\"\\nGrocery List after removing Lettuce:\")\n",
        "    for item in GroceryList:\n",
        "        item.display_item()\n",
        "\n",
        "    total_cost_after_removal = TotalSum(GroceryList)\n",
        "    print(f\"\\nTotal cost after removing Lettuce: PHP {total_cost_after_removal}\")"
      ]
    }
  ]
}