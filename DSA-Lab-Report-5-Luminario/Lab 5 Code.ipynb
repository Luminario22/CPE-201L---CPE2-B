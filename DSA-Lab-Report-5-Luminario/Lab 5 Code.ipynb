{
  "nbformat": 4,
  "nbformat_minor": 0,
  "metadata": {
    "colab": {
      "provenance": [],
      "authorship_tag": "ABX9TyPwi89Gk4Z/szjXVvpF7KP3",
      "include_colab_link": true
    },
    "kernelspec": {
      "name": "python3",
      "display_name": "Python 3"
    },
    "language_info": {
      "name": "python"
    }
  },
  "cells": [
    {
      "cell_type": "markdown",
      "metadata": {
        "id": "view-in-github",
        "colab_type": "text"
      },
      "source": [
        "<a href=\"https://colab.research.google.com/github/Luminario22/CPE-201L---CPE2-B/blob/main/Lab%205%20Code.ipynb\" target=\"_parent\"><img src=\"https://colab.research.google.com/assets/colab-badge.svg\" alt=\"Open In Colab\"/></a>"
      ]
    },
    {
      "cell_type": "code",
      "execution_count": 2,
      "metadata": {
        "colab": {
          "base_uri": "https://localhost:8080/"
        },
        "id": "BcQ9iYXczzXZ",
        "outputId": "c46bd0c0-0235-41aa-fc8a-3dd8845aa25e"
      },
      "outputs": [
        {
          "output_type": "stream",
          "name": "stdout",
          "text": [
            "Original array: [1, 2, 3, 4, 5, 6, 7, 8, 9, 10]\n",
            "\n",
            "Accessing elements by index:\n",
            "Element at index 0: 1\n",
            "Element at index 1: 2\n",
            "Element at index 2: 3\n",
            "Element at index 3: 4\n",
            "Element at index 4: 5\n",
            "Element at index 5: 6\n",
            "Element at index 6: 7\n",
            "Element at index 7: 8\n",
            "Element at index 8: 9\n",
            "Element at index 9: 10\n",
            "Sum of all elements: 55\n",
            "\n",
            "Array after appending 11: [1, 2, 3, 4, 5, 6, 7, 8, 9, 10, 11]\n",
            "Array after inserting 99 before the second element: [1, 99, 2, 3, 4, 5, 6, 7, 8, 9, 10, 11]\n",
            "\n",
            "Original array to reverse: [5, 4, 3, 2, 1]\n",
            "Reversed array: [1, 2, 3, 4, 5]\n",
            "\n",
            "Length of the 'numbers' array: 12\n"
          ]
        }
      ],
      "source": [
        "# First\n",
        "numbers = [1, 2, 3, 4, 5, 6, 7, 8, 9, 10]\n",
        "print(\"Original array:\", numbers)\n",
        "\n",
        "total_sum = 0\n",
        "print(\"\\nAccessing elements by index:\")\n",
        "for i in range(len(numbers)):\n",
        "    print(f\"Element at index {i}:\", numbers[i])\n",
        "    total_sum += numbers[i]\n",
        "\n",
        "print(\"Sum of all elements:\", total_sum)\n",
        "\n",
        "# Second\n",
        "numbers.append(11)\n",
        "print(\"\\nArray after appending 11:\", numbers)\n",
        "\n",
        "numbers.insert(1, 99)\n",
        "print(\"Array after inserting 99 before the second element:\", numbers)\n",
        "\n",
        "# Third\n",
        "reversed_array = [5, 4, 3, 2, 1]\n",
        "print(\"\\nOriginal array to reverse:\", reversed_array)\n",
        "reversed_array.reverse()\n",
        "print(\"Reversed array:\", reversed_array)\n",
        "\n",
        "print(\"\\nLength of the 'numbers' array:\", len(numbers))\n"
      ]
    }
  ]
}