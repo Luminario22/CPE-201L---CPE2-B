{
  "nbformat": 4,
  "nbformat_minor": 0,
  "metadata": {
    "colab": {
      "provenance": [],
      "authorship_tag": "ABX9TyNatsWqR63mXMWYb+/1FU3u",
      "include_colab_link": true
    },
    "kernelspec": {
      "name": "python3",
      "display_name": "Python 3"
    },
    "language_info": {
      "name": "python"
    }
  },
  "cells": [
    {
      "cell_type": "markdown",
      "metadata": {
        "id": "view-in-github",
        "colab_type": "text"
      },
      "source": [
        "<a href=\"https://colab.research.google.com/github/Luminario22/CPE-201L---CPE2-B/blob/main/Stacks%20Luminario.ipynb\" target=\"_parent\"><img src=\"https://colab.research.google.com/assets/colab-badge.svg\" alt=\"Open In Colab\"/></a>"
      ]
    },
    {
      "cell_type": "code",
      "source": [
        "class Stack:\n",
        "    def __init__(self):\n",
        "        self.stack = []\n",
        "\n",
        "    def push(self, dataval):\n",
        "\n",
        "        if dataval not in self.stack:\n",
        "            self.stack.append(dataval)\n",
        "            return True\n",
        "        else:\n",
        "            return False\n",
        "\n",
        "    def pop(self):\n",
        "\n",
        "        if len(self.stack) <= 0:\n",
        "            return \"Stack is empty\"\n",
        "        else:\n",
        "            return self.stack.pop()\n",
        "\n",
        "# used print(\"stock is empty so in the output it will says stock is empty\n",
        "    def display(self):\n",
        "        if not self.stack:\n",
        "            print(\"Stock is empty\")\n",
        "        else:\n",
        "            for item in reversed(self.stack):\n",
        "                print(item)\n",
        "\n",
        "\n",
        "\n",
        "AStack = Stack()\n",
        "AStack.push(\"Sun\")\n",
        "AStack.push(\"Mon\")\n",
        "AStack.push(\"Tue\")\n",
        "AStack.push(\"Wed\")\n",
        "AStack.push(\"Thu\")\n",
        "AStack.push(\"Fri\")\n",
        "AStack.push(\"Sat\")\n",
        "\n",
        "\n",
        "AStack.pop()\n",
        "AStack.pop()\n",
        "AStack.pop()\n",
        "AStack.pop()\n",
        "AStack.pop()\n",
        "AStack.pop()\n",
        "AStack.pop()\n",
        "AStack.pop()\n",
        "\n",
        "\n",
        "AStack.display()\n"
      ],
      "metadata": {
        "colab": {
          "base_uri": "https://localhost:8080/"
        },
        "id": "dDdCL9TucZiB",
        "outputId": "b1ae8f85-cbeb-4c70-ea85-ee878a050c7c"
      },
      "execution_count": 9,
      "outputs": [
        {
          "output_type": "stream",
          "name": "stdout",
          "text": [
            "Stock is empty\n"
          ]
        }
      ]
    }
  ]
}