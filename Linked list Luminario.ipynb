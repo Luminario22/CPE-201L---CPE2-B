{
  "nbformat": 4,
  "nbformat_minor": 0,
  "metadata": {
    "colab": {
      "provenance": [],
      "authorship_tag": "ABX9TyNG3xYkAlsxZUyeFLUTAV46",
      "include_colab_link": true
    },
    "kernelspec": {
      "name": "python3",
      "display_name": "Python 3"
    },
    "language_info": {
      "name": "python"
    }
  },
  "cells": [
    {
      "cell_type": "markdown",
      "metadata": {
        "id": "view-in-github",
        "colab_type": "text"
      },
      "source": [
        "<a href=\"https://colab.research.google.com/github/Luminario22/CPE-201L---CPE2-B/blob/main/Linked%20list%20Luminario.ipynb\" target=\"_parent\"><img src=\"https://colab.research.google.com/assets/colab-badge.svg\" alt=\"Open In Colab\"/></a>"
      ]
    },
    {
      "cell_type": "code",
      "execution_count": 2,
      "metadata": {
        "colab": {
          "base_uri": "https://localhost:8080/"
        },
        "id": "Y1MG0ZJQgQpS",
        "outputId": "e78faeeb-d292-4ecd-e5d9-585cb9c612f2"
      },
      "outputs": [
        {
          "output_type": "stream",
          "name": "stdout",
          "text": [
            "A B C D \n"
          ]
        }
      ],
      "source": [
        "class Node:\n",
        "    def __init__(self, data):\n",
        "        self.data = data\n",
        "        self.next = None\n",
        "\n",
        "class LinkedList:\n",
        "    def __init__(self):\n",
        "        self.head = None\n",
        "\n",
        "    def add_nodes(self, data_list):\n",
        "        \"\"\"Add multiple nodes from a list.\"\"\"\n",
        "        if not data_list:\n",
        "            return\n",
        "        self.head = Node(data_list[0])\n",
        "        current = self.head\n",
        "        for data in data_list[1:]:\n",
        "            current.next = Node(data)\n",
        "            current = current.next\n",
        "\n",
        "    def display(self):\n",
        "        \"\"\"Print node data horizontally.\"\"\"\n",
        "        current = self.head\n",
        "        while current:\n",
        "            print(current.data, end=' ')\n",
        "            current = current.next\n",
        "        print()\n",
        "\n",
        "def main():\n",
        "    llist = LinkedList()\n",
        "    llist.add_nodes([\"A\", \"B\", \"C\", \"D\"])\n",
        "    llist.display()\n",
        "\n",
        "if __name__ == '__main__':\n",
        "    main()\n"
      ]
    },
    {
      "cell_type": "code",
      "source": [
        "\n",
        "class Node:\n",
        "\n",
        "\n",
        "    def __init__(self, data):\n",
        "        self.data = data\n",
        "        self.next = None\n",
        "\n",
        "\n",
        "\n",
        "class LinkedList:\n",
        "\n",
        "\n",
        "    def __init__(self):\n",
        "        self.head = None\n",
        "\n",
        "    def print_data(self):\n",
        "        current = self.head\n",
        "        while current:\n",
        "            print(current.data)\n",
        "            current = current.next\n",
        "\n",
        "\n",
        "    def to_array(self):\n",
        "        result = []\n",
        "        current = self.head\n",
        "        while current:\n",
        "            result.append(current.data)\n",
        "            current = current.next\n",
        "        return result\n",
        "\n",
        "if __name__=='__main__':\n",
        "\n",
        "    llist = LinkedList()\n",
        "\n",
        "    llist.head = Node(\"A\")\n",
        "    second = Node(\"B\")\n",
        "    third = Node(\"C\")\n",
        "    fourth = Node(\"D\")\n",
        "\n",
        "    llist.head.next = second #\n",
        "    second.next = third\n",
        "    third.next = fourth\n",
        "\n",
        "    llist.print_data()\n",
        "\n",
        "\n",
        "    print(\"Array version of the linked list:\")\n",
        "    print(llist.to_array())\n"
      ],
      "metadata": {
        "colab": {
          "base_uri": "https://localhost:8080/"
        },
        "id": "REtvuI9HkMmr",
        "outputId": "6fbe9477-a123-4cfa-8e60-0e54999ec15e"
      },
      "execution_count": 3,
      "outputs": [
        {
          "output_type": "stream",
          "name": "stdout",
          "text": [
            "A\n",
            "B\n",
            "C\n",
            "D\n",
            "Array version of the linked list:\n",
            "['A', 'B', 'C', 'D']\n"
          ]
        }
      ]
    }
  ]
}